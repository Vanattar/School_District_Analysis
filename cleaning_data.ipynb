{
 "cells": [
  {
   "cell_type": "code",
   "execution_count": null,
   "metadata": {},
   "outputs": [],
   "source": [
    "# Add the Pandas dependency.\n",
    "import pandas as pd\n",
    "\n",
    "# Files to load\n",
    "file_to_load = \"Resources/missing_grades.csv\"\n",
    "\n",
    "# Read the CSV into a DataFrame\n",
    "missing_grade_df = pd.read_csv(file_to_load)\n",
    "missing_grade_df\n",
    "\n",
    "# Drop the NaNs.\n",
    "missing_grade_df.dropna()\n",
    "\n",
    "# Fill in the empty rows with \"85\".\n",
    "missing_grade_df.fillna(85)\n",
    "\n"
   ]
  }
 ],
 "metadata": {
  "language_info": {
   "name": "python"
  },
  "orig_nbformat": 4
 },
 "nbformat": 4,
 "nbformat_minor": 2
}
